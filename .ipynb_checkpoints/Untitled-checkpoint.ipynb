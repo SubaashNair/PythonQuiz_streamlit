{
 "cells": [
  {
   "cell_type": "code",
   "execution_count": 1,
   "id": "ad1b3b27-a32b-4788-a999-c8ad65457e87",
   "metadata": {},
   "outputs": [],
   "source": [
    "import streamlit as st"
   ]
  },
  {
   "cell_type": "code",
   "execution_count": 4,
   "id": "b6e35391-2863-4f51-99f2-47031c0b0e8a",
   "metadata": {},
   "outputs": [
    {
     "name": "stdout",
     "output_type": "stream",
     "text": [
      "Requirement already satisfied: streamlit in /Users/subashanannair/anaconda3/envs/test/lib/python3.10/site-packages (1.26.0)\n",
      "Requirement already satisfied: altair<6,>=4.0 in /Users/subashanannair/anaconda3/envs/test/lib/python3.10/site-packages (from streamlit) (5.0.1)\n",
      "Requirement already satisfied: blinker<2,>=1.0.0 in /Users/subashanannair/anaconda3/envs/test/lib/python3.10/site-packages (from streamlit) (1.6.2)\n",
      "Requirement already satisfied: cachetools<6,>=4.0 in /Users/subashanannair/anaconda3/envs/test/lib/python3.10/site-packages (from streamlit) (4.2.2)\n",
      "Requirement already satisfied: click<9,>=7.0 in /Users/subashanannair/anaconda3/envs/test/lib/python3.10/site-packages (from streamlit) (8.1.7)\n",
      "Requirement already satisfied: importlib-metadata<7,>=1.4 in /Users/subashanannair/anaconda3/envs/test/lib/python3.10/site-packages (from streamlit) (6.0.0)\n",
      "Requirement already satisfied: numpy<2,>=1.19.3 in /Users/subashanannair/anaconda3/envs/test/lib/python3.10/site-packages (from streamlit) (1.26.2)\n",
      "Requirement already satisfied: packaging<24,>=16.8 in /Users/subashanannair/anaconda3/envs/test/lib/python3.10/site-packages (from streamlit) (23.1)\n",
      "Requirement already satisfied: pandas<3,>=1.3.0 in /Users/subashanannair/anaconda3/envs/test/lib/python3.10/site-packages (from streamlit) (2.1.4)\n",
      "Requirement already satisfied: pillow<10,>=7.1.0 in /Users/subashanannair/anaconda3/envs/test/lib/python3.10/site-packages (from streamlit) (9.4.0)\n",
      "Requirement already satisfied: protobuf<5,>=3.20 in /Users/subashanannair/anaconda3/envs/test/lib/python3.10/site-packages (from streamlit) (3.20.3)\n",
      "Requirement already satisfied: pyarrow>=6.0 in /Users/subashanannair/anaconda3/envs/test/lib/python3.10/site-packages (from streamlit) (11.0.0)\n",
      "Requirement already satisfied: pympler<2,>=0.9 in /Users/subashanannair/anaconda3/envs/test/lib/python3.10/site-packages (from streamlit) (0.9)\n",
      "Requirement already satisfied: python-dateutil<3,>=2.7.3 in /Users/subashanannair/anaconda3/envs/test/lib/python3.10/site-packages (from streamlit) (2.8.2)\n",
      "Requirement already satisfied: requests<3,>=2.18 in /Users/subashanannair/anaconda3/envs/test/lib/python3.10/site-packages (from streamlit) (2.31.0)\n",
      "Requirement already satisfied: rich<14,>=10.14.0 in /Users/subashanannair/anaconda3/envs/test/lib/python3.10/site-packages (from streamlit) (13.3.5)\n",
      "Requirement already satisfied: tenacity<9,>=8.1.0 in /Users/subashanannair/anaconda3/envs/test/lib/python3.10/site-packages (from streamlit) (8.2.2)\n",
      "Requirement already satisfied: toml<2,>=0.10.1 in /Users/subashanannair/anaconda3/envs/test/lib/python3.10/site-packages (from streamlit) (0.10.2)\n",
      "Requirement already satisfied: typing-extensions<5,>=4.1.0 in /Users/subashanannair/anaconda3/envs/test/lib/python3.10/site-packages (from streamlit) (4.7.1)\n",
      "Requirement already satisfied: tzlocal<5,>=1.1 in /Users/subashanannair/anaconda3/envs/test/lib/python3.10/site-packages (from streamlit) (2.1)\n",
      "Requirement already satisfied: validators<1,>=0.2 in /Users/subashanannair/anaconda3/envs/test/lib/python3.10/site-packages (from streamlit) (0.18.2)\n",
      "Requirement already satisfied: gitpython!=3.1.19,<4,>=3.0.7 in /Users/subashanannair/anaconda3/envs/test/lib/python3.10/site-packages (from streamlit) (3.1.37)\n",
      "Collecting pydeck<1,>=0.8 (from streamlit)\n",
      "  Downloading pydeck-0.8.0-py2.py3-none-any.whl (4.7 MB)\n",
      "\u001b[2K     \u001b[38;2;114;156;31m━━━━━━━━━━━━━━━━━━━━━━━━━━━━━━━━━━━━━━━━\u001b[0m \u001b[32m4.7/4.7 MB\u001b[0m \u001b[31m4.4 MB/s\u001b[0m eta \u001b[36m0:00:00\u001b[0mm eta \u001b[36m0:00:01\u001b[0m[36m0:00:01\u001b[0mm\n",
      "\u001b[?25hRequirement already satisfied: tornado<7,>=6.0.3 in /Users/subashanannair/anaconda3/envs/test/lib/python3.10/site-packages (from streamlit) (6.3.3)\n",
      "Requirement already satisfied: jinja2 in /Users/subashanannair/anaconda3/envs/test/lib/python3.10/site-packages (from altair<6,>=4.0->streamlit) (3.1.2)\n",
      "Requirement already satisfied: jsonschema>=3.0 in /Users/subashanannair/anaconda3/envs/test/lib/python3.10/site-packages (from altair<6,>=4.0->streamlit) (4.19.2)\n",
      "Requirement already satisfied: toolz in /Users/subashanannair/anaconda3/envs/test/lib/python3.10/site-packages (from altair<6,>=4.0->streamlit) (0.12.0)\n",
      "Requirement already satisfied: gitdb<5,>=4.0.1 in /Users/subashanannair/anaconda3/envs/test/lib/python3.10/site-packages (from gitpython!=3.1.19,<4,>=3.0.7->streamlit) (4.0.7)\n",
      "Requirement already satisfied: zipp>=0.5 in /Users/subashanannair/anaconda3/envs/test/lib/python3.10/site-packages (from importlib-metadata<7,>=1.4->streamlit) (3.11.0)\n",
      "Requirement already satisfied: pytz>=2020.1 in /Users/subashanannair/anaconda3/envs/test/lib/python3.10/site-packages (from pandas<3,>=1.3.0->streamlit) (2023.3.post1)\n",
      "Requirement already satisfied: tzdata>=2022.1 in /Users/subashanannair/anaconda3/envs/test/lib/python3.10/site-packages (from pandas<3,>=1.3.0->streamlit) (2023.3)\n",
      "Requirement already satisfied: six>=1.5 in /Users/subashanannair/anaconda3/envs/test/lib/python3.10/site-packages (from python-dateutil<3,>=2.7.3->streamlit) (1.16.0)\n",
      "Requirement already satisfied: charset-normalizer<4,>=2 in /Users/subashanannair/anaconda3/envs/test/lib/python3.10/site-packages (from requests<3,>=2.18->streamlit) (2.0.4)\n",
      "Requirement already satisfied: idna<4,>=2.5 in /Users/subashanannair/anaconda3/envs/test/lib/python3.10/site-packages (from requests<3,>=2.18->streamlit) (3.4)\n",
      "Requirement already satisfied: urllib3<3,>=1.21.1 in /Users/subashanannair/anaconda3/envs/test/lib/python3.10/site-packages (from requests<3,>=2.18->streamlit) (1.26.18)\n",
      "Requirement already satisfied: certifi>=2017.4.17 in /Users/subashanannair/anaconda3/envs/test/lib/python3.10/site-packages (from requests<3,>=2.18->streamlit) (2023.11.17)\n",
      "Requirement already satisfied: markdown-it-py<3.0.0,>=2.2.0 in /Users/subashanannair/anaconda3/envs/test/lib/python3.10/site-packages (from rich<14,>=10.14.0->streamlit) (2.2.0)\n",
      "Requirement already satisfied: pygments<3.0.0,>=2.13.0 in /Users/subashanannair/anaconda3/envs/test/lib/python3.10/site-packages (from rich<14,>=10.14.0->streamlit) (2.15.1)\n",
      "Requirement already satisfied: decorator>=3.4.0 in /Users/subashanannair/anaconda3/envs/test/lib/python3.10/site-packages (from validators<1,>=0.2->streamlit) (5.1.1)\n",
      "Requirement already satisfied: smmap<5,>=3.0.1 in /Users/subashanannair/anaconda3/envs/test/lib/python3.10/site-packages (from gitdb<5,>=4.0.1->gitpython!=3.1.19,<4,>=3.0.7->streamlit) (4.0.0)\n",
      "Requirement already satisfied: MarkupSafe>=2.0 in /Users/subashanannair/anaconda3/envs/test/lib/python3.10/site-packages (from jinja2->altair<6,>=4.0->streamlit) (2.1.1)\n",
      "Requirement already satisfied: attrs>=22.2.0 in /Users/subashanannair/anaconda3/envs/test/lib/python3.10/site-packages (from jsonschema>=3.0->altair<6,>=4.0->streamlit) (23.1.0)\n",
      "Requirement already satisfied: jsonschema-specifications>=2023.03.6 in /Users/subashanannair/anaconda3/envs/test/lib/python3.10/site-packages (from jsonschema>=3.0->altair<6,>=4.0->streamlit) (2023.7.1)\n",
      "Requirement already satisfied: referencing>=0.28.4 in /Users/subashanannair/anaconda3/envs/test/lib/python3.10/site-packages (from jsonschema>=3.0->altair<6,>=4.0->streamlit) (0.30.2)\n",
      "Requirement already satisfied: rpds-py>=0.7.1 in /Users/subashanannair/anaconda3/envs/test/lib/python3.10/site-packages (from jsonschema>=3.0->altair<6,>=4.0->streamlit) (0.10.6)\n",
      "Requirement already satisfied: mdurl~=0.1 in /Users/subashanannair/anaconda3/envs/test/lib/python3.10/site-packages (from markdown-it-py<3.0.0,>=2.2.0->rich<14,>=10.14.0->streamlit) (0.1.0)\n",
      "Installing collected packages: pydeck\n",
      "  Attempting uninstall: pydeck\n",
      "    Found existing installation: pydeck 0.8.0b4\n",
      "    Uninstalling pydeck-0.8.0b4:\n",
      "      Successfully uninstalled pydeck-0.8.0b4\n",
      "Successfully installed pydeck-0.8.0\n"
     ]
    }
   ],
   "source": [
    "!pip3 install streamlit"
   ]
  },
  {
   "cell_type": "code",
   "execution_count": 2,
   "id": "760f5aae-7a31-418c-bf92-f0843277c678",
   "metadata": {},
   "outputs": [
    {
     "name": "stdout",
     "output_type": "stream",
     "text": [
      "Traceback (most recent call last):\n",
      "  File \"/Users/subashanannair/anaconda3/envs/test/bin/streamlit\", line 7, in <module>\n",
      "    from streamlit.cli import main\n",
      "ModuleNotFoundError: No module named 'streamlit.cli'\n"
     ]
    }
   ],
   "source": [
    "! streamlit run icebreaking.py"
   ]
  },
  {
   "cell_type": "code",
   "execution_count": null,
   "id": "fb0a3625-4a9e-4f34-9f3d-e208541461f6",
   "metadata": {},
   "outputs": [],
   "source": []
  }
 ],
 "metadata": {
  "kernelspec": {
   "display_name": "Python 3 (ipykernel)",
   "language": "python",
   "name": "python3"
  },
  "language_info": {
   "codemirror_mode": {
    "name": "ipython",
    "version": 3
   },
   "file_extension": ".py",
   "mimetype": "text/x-python",
   "name": "python",
   "nbconvert_exporter": "python",
   "pygments_lexer": "ipython3",
   "version": "3.10.0"
  }
 },
 "nbformat": 4,
 "nbformat_minor": 5
}
